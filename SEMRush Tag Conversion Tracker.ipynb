{
 "cells": [
  {
   "cell_type": "markdown",
   "metadata": {},
   "source": [
    "Let's grab our data and take a look at it. (I did some basic cleaning and removed irrelevant rows in Google Sheets prior to importing, but that isn't strictly necessary for any of this)."
   ]
  },
  {
   "cell_type": "code",
   "execution_count": 5,
   "metadata": {},
   "outputs": [
    {
     "data": {
      "text/html": [
       "<div>\n",
       "<style scoped>\n",
       "    .dataframe tbody tr th:only-of-type {\n",
       "        vertical-align: middle;\n",
       "    }\n",
       "\n",
       "    .dataframe tbody tr th {\n",
       "        vertical-align: top;\n",
       "    }\n",
       "\n",
       "    .dataframe thead th {\n",
       "        text-align: right;\n",
       "    }\n",
       "</style>\n",
       "<table border=\"1\" class=\"dataframe\">\n",
       "  <thead>\n",
       "    <tr style=\"text-align: right;\">\n",
       "      <th></th>\n",
       "      <th>keyword</th>\n",
       "      <th>rank</th>\n",
       "      <th>url</th>\n",
       "      <th>tags</th>\n",
       "      <th>cpc</th>\n",
       "      <th>volume</th>\n",
       "    </tr>\n",
       "  </thead>\n",
       "  <tbody>\n",
       "    <tr>\n",
       "      <th>0</th>\n",
       "      <td>learn data science</td>\n",
       "      <td>1</td>\n",
       "      <td>https://www.dataquest.io/blog/learn-data-science/</td>\n",
       "      <td>career-builder|q3top10|tier1</td>\n",
       "      <td>7.37</td>\n",
       "      <td>880.0</td>\n",
       "    </tr>\n",
       "    <tr>\n",
       "      <th>1</th>\n",
       "      <td>python api tutorial</td>\n",
       "      <td>1</td>\n",
       "      <td>https://www.dataquest.io/blog/python-api-tutor...</td>\n",
       "      <td>api|python|skill-python-apis-scraping|tier3</td>\n",
       "      <td>1.97</td>\n",
       "      <td>390.0</td>\n",
       "    </tr>\n",
       "  </tbody>\n",
       "</table>\n",
       "</div>"
      ],
      "text/plain": [
       "               keyword rank  \\\n",
       "0   learn data science    1   \n",
       "1  python api tutorial    1   \n",
       "\n",
       "                                                 url  \\\n",
       "0  https://www.dataquest.io/blog/learn-data-science/   \n",
       "1  https://www.dataquest.io/blog/python-api-tutor...   \n",
       "\n",
       "                                          tags   cpc  volume  \n",
       "0                 career-builder|q3top10|tier1  7.37   880.0  \n",
       "1  api|python|skill-python-apis-scraping|tier3  1.97   390.0  "
      ]
     },
     "execution_count": 5,
     "metadata": {},
     "output_type": "execute_result"
    }
   ],
   "source": [
    "import pandas as pd\n",
    "import numpy as np\n",
    "\n",
    "# Import the SEMRush export and skip the extraneous rows it has at the top \n",
    "df = pd.read_csv('skill-ranks.csv', skiprows=7)\n",
    "# rename the columns and drop the useless one\n",
    "df.columns = ['keyword', 'rank', 'dtype', 'url', 'difference', 'tags', 'cpc', 'volume']\n",
    "df = df[['keyword', 'rank', 'url', 'tags', 'cpc', 'volume']]\n",
    "\n",
    "# double-checking it worked right by looking at the output\n",
    "df.head(2)"
   ]
  },
  {
   "cell_type": "markdown",
   "metadata": {},
   "source": [
    "The way SEMRush handles tags in exports is kind of annoying, but we can live with it. We've got a bunch of different skill paths, and we could use str.contains to separate each of them into a separate, smaller dataframe, like so:"
   ]
  },
  {
   "cell_type": "code",
   "execution_count": 8,
   "metadata": {},
   "outputs": [],
   "source": [
    "#commented out because we don't need to run this, it's just some info on an alternate method.\n",
    "\n",
    "# python_stats = df[df['tags'].str.contains('skill-python-stats')]"
   ]
  },
  {
   "cell_type": "markdown",
   "metadata": {},
   "source": [
    "But, it may be easier in the future if we keep this all in one database, so instead, let's set a list of conditions and corresponding values, and then create a new column that'll list _only_ the skillpath tag."
   ]
  },
  {
   "cell_type": "code",
   "execution_count": 7,
   "metadata": {},
   "outputs": [],
   "source": [
    "conditions = [\n",
    "    (df['tags'].str.contains('skill-python-stats') == True),\n",
    "    (df['tags'].str.contains('skill-r-stats') == True),\n",
    "    (df['tags'].str.contains('skill-python-ml-intermediate') == True),\n",
    "    (df['tags'].str.contains('skill-python-ml-intro') == True),\n",
    "    (df['tags'].str.contains('skills-sql') == True),\n",
    "    (df['tags'].str.contains('skill-r-basics') == True),\n",
    "    (df['tags'].str.contains('skill-python-basics') == True),\n",
    "    (df['tags'].str.contains('skill-python-da-dv') == True),\n",
    "    (df['tags'].str.contains('skill-python-apis-scraping') == True),\n",
    "    (df['tags'].str.contains('skill-r-apis-scraping') == True),\n",
    "    (df['tags'].str.contains('skill-r-dv') == True),\n",
    "    (df['tags'].str.contains('career-builder') == True),\n",
    "    ]\n",
    "\n",
    "values = ['skill-python-stats', 'skill-r-stats', 'skill-python-ml-intermediate', 'skill-python-ml-intro',\n",
    "         'skills-sql', 'skill-r-basics', 'skill-python-basics', 'skill-python-da-dv', 'skill-python-apis-scraping',\n",
    "          'skill-r-apis-scraping', 'skill-r-dv', 'career-builder'\n",
    "         ]\n",
    "\n",
    "df['skillpath'] = np.select(conditions, values)\n",
    "\n",
    "df.to_csv('SEMRush-data-exported.csv')"
   ]
  },
  {
   "cell_type": "markdown",
   "metadata": {},
   "source": [
    "## Dataquest users - Stop Here and Work with the CSV that was exported as per the [directions here.](https://www.notion.so/dataquest/Skill-Path-Keyword-Worksheet-Documentation-65280a7f34764a7f8dc10da0835bad00)\n",
    "\n",
    "### What follows is just for my own practice\n",
    "\n",
    "\n",
    "\n",
    "Beautiful! Now, let's set conversion percentages for the content in each of these skillpaths, and add those as a new column we can use as a multiplier. To make it easy for anyone to work with, we'll add easy to change values for all the conversion rates.\n",
    "\n",
    "Note: these conversion numbers are made-up nonsense for now. We can substitute in the real numbers later!"
   ]
  },
  {
   "cell_type": "code",
   "execution_count": 4,
   "metadata": {},
   "outputs": [
    {
     "data": {
      "text/html": [
       "<div>\n",
       "<style scoped>\n",
       "    .dataframe tbody tr th:only-of-type {\n",
       "        vertical-align: middle;\n",
       "    }\n",
       "\n",
       "    .dataframe tbody tr th {\n",
       "        vertical-align: top;\n",
       "    }\n",
       "\n",
       "    .dataframe thead th {\n",
       "        text-align: right;\n",
       "    }\n",
       "</style>\n",
       "<table border=\"1\" class=\"dataframe\">\n",
       "  <thead>\n",
       "    <tr style=\"text-align: right;\">\n",
       "      <th></th>\n",
       "      <th>keyword</th>\n",
       "      <th>rank_mar_10</th>\n",
       "      <th>url</th>\n",
       "      <th>tags</th>\n",
       "      <th>cpc</th>\n",
       "      <th>volume</th>\n",
       "      <th>skillpath</th>\n",
       "      <th>signup_conv</th>\n",
       "    </tr>\n",
       "  </thead>\n",
       "  <tbody>\n",
       "    <tr>\n",
       "      <th>104</th>\n",
       "      <td>r programming basics</td>\n",
       "      <td>19</td>\n",
       "      <td>https://www.dataquest.io/course/introduction-t...</td>\n",
       "      <td>skill-r-basics</td>\n",
       "      <td>2.68</td>\n",
       "      <td>170.0</td>\n",
       "      <td>skill-r-basics</td>\n",
       "      <td>0.01</td>\n",
       "    </tr>\n",
       "    <tr>\n",
       "      <th>140</th>\n",
       "      <td>learn data analysis in r</td>\n",
       "      <td>1</td>\n",
       "      <td>https://www.dataquest.io/path/data-analyst-r/</td>\n",
       "      <td>skill-r-basics</td>\n",
       "      <td>NaN</td>\n",
       "      <td>NaN</td>\n",
       "      <td>skill-r-basics</td>\n",
       "      <td>0.01</td>\n",
       "    </tr>\n",
       "  </tbody>\n",
       "</table>\n",
       "</div>"
      ],
      "text/plain": [
       "                      keyword rank_mar_10  \\\n",
       "104      r programming basics          19   \n",
       "140  learn data analysis in r           1   \n",
       "\n",
       "                                                   url            tags   cpc  \\\n",
       "104  https://www.dataquest.io/course/introduction-t...  skill-r-basics  2.68   \n",
       "140      https://www.dataquest.io/path/data-analyst-r/  skill-r-basics   NaN   \n",
       "\n",
       "     volume       skillpath  signup_conv  \n",
       "104   170.0  skill-r-basics         0.01  \n",
       "140     NaN  skill-r-basics         0.01  "
      ]
     },
     "execution_count": 4,
     "metadata": {},
     "output_type": "execute_result"
    }
   ],
   "source": [
    "conditions = [\n",
    "    (df['tags'].str.contains('skill-python-stats') == True),\n",
    "    (df['tags'].str.contains('skill-r-stats') == True),\n",
    "    (df['tags'].str.contains('skill-python-ml-intermediate') == True),\n",
    "    (df['tags'].str.contains('skill-python-ml-intro') == True),\n",
    "    (df['tags'].str.contains('skills-sql') == True),\n",
    "    (df['tags'].str.contains('skill-r-basics') == True),\n",
    "    (df['tags'].str.contains('skill-python-basics') == True),\n",
    "    (df['tags'].str.contains('skill-python-da-dv') == True),\n",
    "    (df['tags'].str.contains('skill-python-apis-scraping') == True),\n",
    "    (df['tags'].str.contains('skill-r-apis-scraping') == True),\n",
    "    (df['tags'].str.contains('skill-r-dv') == True),\n",
    "    (df['tags'].str.contains('career-builder') == True),\n",
    "    ]\n",
    "\n",
    "python_stats_conv = 0.01\n",
    "r_stats_conv = 0.02\n",
    "python_ml_intermediate_conv = 0.01\n",
    "python_ml_intro_conv = 0.02\n",
    "sql_conv = 0.006\n",
    "r_basics_conv = 0.01\n",
    "python_basics_conv = 0.01\n",
    "python_da_dv_conv = 0.02\n",
    "python_apis_scraping_conv = 0.01\n",
    "r_apis_scraping_conv = 0.02\n",
    "r_dv_conv = 0.005\n",
    "career_builder_conv = 0.01\n",
    "\n",
    "values = [python_stats_conv, r_stats_conv, python_ml_intermediate_conv, python_ml_intro_conv,\n",
    "         sql_conv, r_basics_conv, python_basics_conv, python_da_dv_conv, python_apis_scraping_conv,\n",
    "          r_apis_scraping_conv, r_dv_conv, career_builder_conv\n",
    "         ]\n",
    "\n",
    "df['signup_conv'] = np.select(conditions, values)\n",
    "df.sample(2)"
   ]
  },
  {
   "cell_type": "markdown",
   "metadata": {},
   "source": [
    "Now we're set up to do some more advanced stuff, but for now, let's take a quick look at the potential conversions (not including long-tail and variations) for the SQL skill path, assuming we captured all traffic (which we obviously cannot, just as a proof of concept).\n",
    "\n",
    "Below is a hacky (but it works!) way to get at this:"
   ]
  },
  {
   "cell_type": "code",
   "execution_count": 5,
   "metadata": {},
   "outputs": [
    {
     "data": {
      "text/plain": [
       "1046.7000000000003"
      ]
     },
     "execution_count": 5,
     "metadata": {},
     "output_type": "execute_result"
    }
   ],
   "source": [
    "df[(df['skillpath'] == 'skills-sql')]['volume'].sum()*df[(df['skillpath'] == 'skills-sql')]['signup_conv'].mean()"
   ]
  },
  {
   "cell_type": "markdown",
   "metadata": {},
   "source": [
    "That'll do for now. Next steps:\n",
    "* Create a column for current estimated traffic based on current rank and keyword volume\n",
    "* Create a column for if we ranked 2nd for all keywords"
   ]
  }
 ],
 "metadata": {
  "kernelspec": {
   "display_name": "Python 3",
   "language": "python",
   "name": "python3"
  },
  "language_info": {
   "codemirror_mode": {
    "name": "ipython",
    "version": 3
   },
   "file_extension": ".py",
   "mimetype": "text/x-python",
   "name": "python",
   "nbconvert_exporter": "python",
   "pygments_lexer": "ipython3",
   "version": "3.7.0"
  }
 },
 "nbformat": 4,
 "nbformat_minor": 2
}
