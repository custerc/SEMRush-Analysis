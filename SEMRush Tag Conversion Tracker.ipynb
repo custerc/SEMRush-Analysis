{
 "cells": [
  {
   "cell_type": "markdown",
   "metadata": {},
   "source": [
    "Let's grab our data and take a look at it. (I did some basic cleaning and removed irrelevant rows in Google Sheets prior to importing, but that isn't strictly necessary for any of this)."
   ]
  },
  {
   "cell_type": "code",
   "execution_count": 10,
   "metadata": {},
   "outputs": [
    {
     "data": {
      "text/html": [
       "<div>\n",
       "<style scoped>\n",
       "    .dataframe tbody tr th:only-of-type {\n",
       "        vertical-align: middle;\n",
       "    }\n",
       "\n",
       "    .dataframe tbody tr th {\n",
       "        vertical-align: top;\n",
       "    }\n",
       "\n",
       "    .dataframe thead th {\n",
       "        text-align: right;\n",
       "    }\n",
       "</style>\n",
       "<table border=\"1\" class=\"dataframe\">\n",
       "  <thead>\n",
       "    <tr style=\"text-align: right;\">\n",
       "      <th></th>\n",
       "      <th>keyword</th>\n",
       "      <th>rank_mar_10</th>\n",
       "      <th>url</th>\n",
       "      <th>tags</th>\n",
       "      <th>cpc</th>\n",
       "      <th>volume</th>\n",
       "    </tr>\n",
       "  </thead>\n",
       "  <tbody>\n",
       "    <tr>\n",
       "      <th>0</th>\n",
       "      <td>python for loop</td>\n",
       "      <td>22</td>\n",
       "      <td>https://www.dataquest.io/blog/python-for-loop-...</td>\n",
       "      <td>python|q3top10|skill-python-basics|tier3</td>\n",
       "      <td>3.10</td>\n",
       "      <td>90500.0</td>\n",
       "    </tr>\n",
       "    <tr>\n",
       "      <th>1</th>\n",
       "      <td>python dictionary</td>\n",
       "      <td>56</td>\n",
       "      <td>https://www.dataquest.io/blog/python-dictionar...</td>\n",
       "      <td>python|skill-python-basics|tier3</td>\n",
       "      <td>0.59</td>\n",
       "      <td>60500.0</td>\n",
       "    </tr>\n",
       "  </tbody>\n",
       "</table>\n",
       "</div>"
      ],
      "text/plain": [
       "             keyword rank_mar_10  \\\n",
       "0    python for loop          22   \n",
       "1  python dictionary          56   \n",
       "\n",
       "                                                 url  \\\n",
       "0  https://www.dataquest.io/blog/python-for-loop-...   \n",
       "1  https://www.dataquest.io/blog/python-dictionar...   \n",
       "\n",
       "                                       tags   cpc   volume  \n",
       "0  python|q3top10|skill-python-basics|tier3  3.10  90500.0  \n",
       "1          python|skill-python-basics|tier3  0.59  60500.0  "
      ]
     },
     "execution_count": 10,
     "metadata": {},
     "output_type": "execute_result"
    }
   ],
   "source": [
    "import pandas as pd\n",
    "import numpy as np\n",
    "\n",
    "df = pd.read_csv('skill-ranks.csv')\n",
    "df.head(2)"
   ]
  },
  {
   "cell_type": "markdown",
   "metadata": {},
   "source": [
    "The way SEMRush handles tags in exports is kind of annoying, but we can live with it. We've got a bunch of different skill paths, and we could use str.contains to separate each of them into a separate, smaller dataframe, like so:"
   ]
  },
  {
   "cell_type": "code",
   "execution_count": 11,
   "metadata": {},
   "outputs": [
    {
     "data": {
      "text/html": [
       "<div>\n",
       "<style scoped>\n",
       "    .dataframe tbody tr th:only-of-type {\n",
       "        vertical-align: middle;\n",
       "    }\n",
       "\n",
       "    .dataframe tbody tr th {\n",
       "        vertical-align: top;\n",
       "    }\n",
       "\n",
       "    .dataframe thead th {\n",
       "        text-align: right;\n",
       "    }\n",
       "</style>\n",
       "<table border=\"1\" class=\"dataframe\">\n",
       "  <thead>\n",
       "    <tr style=\"text-align: right;\">\n",
       "      <th></th>\n",
       "      <th>keyword</th>\n",
       "      <th>rank_mar_10</th>\n",
       "      <th>url</th>\n",
       "      <th>tags</th>\n",
       "      <th>cpc</th>\n",
       "      <th>volume</th>\n",
       "    </tr>\n",
       "  </thead>\n",
       "  <tbody>\n",
       "    <tr>\n",
       "      <th>59</th>\n",
       "      <td>statistics with python</td>\n",
       "      <td>28</td>\n",
       "      <td>https://www.dataquest.io/blog/basic-statistics...</td>\n",
       "      <td>python|skill-python-stats|tier3</td>\n",
       "      <td>1.96</td>\n",
       "      <td>1600.0</td>\n",
       "    </tr>\n",
       "    <tr>\n",
       "      <th>64</th>\n",
       "      <td>statistics course</td>\n",
       "      <td>-</td>\n",
       "      <td>NaN</td>\n",
       "      <td>intent_keywords|skill-python-stats|skill-r-sta...</td>\n",
       "      <td>2.72</td>\n",
       "      <td>1000.0</td>\n",
       "    </tr>\n",
       "  </tbody>\n",
       "</table>\n",
       "</div>"
      ],
      "text/plain": [
       "                   keyword rank_mar_10  \\\n",
       "59  statistics with python          28   \n",
       "64       statistics course           -   \n",
       "\n",
       "                                                  url  \\\n",
       "59  https://www.dataquest.io/blog/basic-statistics...   \n",
       "64                                                NaN   \n",
       "\n",
       "                                                 tags   cpc  volume  \n",
       "59                    python|skill-python-stats|tier3  1.96  1600.0  \n",
       "64  intent_keywords|skill-python-stats|skill-r-sta...  2.72  1000.0  "
      ]
     },
     "execution_count": 11,
     "metadata": {},
     "output_type": "execute_result"
    }
   ],
   "source": [
    "python_stats = df[df['tags'].str.contains('skill-python-stats')]\n",
    "\n",
    "python_stats.head(2)"
   ]
  },
  {
   "cell_type": "markdown",
   "metadata": {},
   "source": [
    "But, it may be easier in the future if we keep this all in one database, so instead, let's set a list of conditions and corresponding values, and then create a new column that'll list _only_ the skillpath tag."
   ]
  },
  {
   "cell_type": "code",
   "execution_count": 12,
   "metadata": {},
   "outputs": [
    {
     "data": {
      "text/html": [
       "<div>\n",
       "<style scoped>\n",
       "    .dataframe tbody tr th:only-of-type {\n",
       "        vertical-align: middle;\n",
       "    }\n",
       "\n",
       "    .dataframe tbody tr th {\n",
       "        vertical-align: top;\n",
       "    }\n",
       "\n",
       "    .dataframe thead th {\n",
       "        text-align: right;\n",
       "    }\n",
       "</style>\n",
       "<table border=\"1\" class=\"dataframe\">\n",
       "  <thead>\n",
       "    <tr style=\"text-align: right;\">\n",
       "      <th></th>\n",
       "      <th>keyword</th>\n",
       "      <th>rank_mar_10</th>\n",
       "      <th>url</th>\n",
       "      <th>tags</th>\n",
       "      <th>cpc</th>\n",
       "      <th>volume</th>\n",
       "      <th>skillpath</th>\n",
       "    </tr>\n",
       "  </thead>\n",
       "  <tbody>\n",
       "    <tr>\n",
       "      <th>114</th>\n",
       "      <td>learn data skills</td>\n",
       "      <td>3</td>\n",
       "      <td>https://www.dataquest.io/blog/data-analyst-ski...</td>\n",
       "      <td>career-builder|tier2</td>\n",
       "      <td>NaN</td>\n",
       "      <td>10.0</td>\n",
       "      <td>career-builder</td>\n",
       "    </tr>\n",
       "    <tr>\n",
       "      <th>100</th>\n",
       "      <td>kaggle tutorials</td>\n",
       "      <td>19</td>\n",
       "      <td>https://www.dataquest.io/blog/kaggle-tutorial/</td>\n",
       "      <td>skill-python-ml-intermediate</td>\n",
       "      <td>1.99</td>\n",
       "      <td>170.0</td>\n",
       "      <td>skill-python-ml-intermediate</td>\n",
       "    </tr>\n",
       "  </tbody>\n",
       "</table>\n",
       "</div>"
      ],
      "text/plain": [
       "               keyword rank_mar_10  \\\n",
       "114  learn data skills           3   \n",
       "100   kaggle tutorials          19   \n",
       "\n",
       "                                                   url  \\\n",
       "114  https://www.dataquest.io/blog/data-analyst-ski...   \n",
       "100     https://www.dataquest.io/blog/kaggle-tutorial/   \n",
       "\n",
       "                             tags   cpc  volume                     skillpath  \n",
       "114          career-builder|tier2   NaN    10.0                career-builder  \n",
       "100  skill-python-ml-intermediate  1.99   170.0  skill-python-ml-intermediate  "
      ]
     },
     "execution_count": 12,
     "metadata": {},
     "output_type": "execute_result"
    }
   ],
   "source": [
    "conditions = [\n",
    "    (df['tags'].str.contains('skill-python-stats') == True),\n",
    "    (df['tags'].str.contains('skill-r-stats') == True),\n",
    "    (df['tags'].str.contains('skill-python-ml-intermediate') == True),\n",
    "    (df['tags'].str.contains('skill-python-ml-intro') == True),\n",
    "    (df['tags'].str.contains('skills-sql') == True),\n",
    "    (df['tags'].str.contains('skill-r-basics') == True),\n",
    "    (df['tags'].str.contains('skill-python-basics') == True),\n",
    "    (df['tags'].str.contains('skill-python-da-dv') == True),\n",
    "    (df['tags'].str.contains('skill-python-apis-scraping') == True),\n",
    "    (df['tags'].str.contains('skill-r-apis-scraping') == True),\n",
    "    (df['tags'].str.contains('skill-r-dv') == True),\n",
    "    (df['tags'].str.contains('career-builder') == True),\n",
    "    ]\n",
    "\n",
    "values = ['skill-python-stats', 'skill-r-stats', 'skill-python-ml-intermediate', 'skill-python-ml-intro',\n",
    "         'skills-sql', 'skill-r-basics', 'skill-python-basics', 'skill-python-da-dv', 'skill-python-apis-scraping',\n",
    "          'skill-r-apis-scraping', 'skill-r-dv', 'career-builder'\n",
    "         ]\n",
    "\n",
    "df['skillpath'] = np.select(conditions, values)\n",
    "\n",
    "df.sample(2)"
   ]
  },
  {
   "cell_type": "markdown",
   "metadata": {},
   "source": [
    "Beautiful! Now, let's set conversion percentages for the content in each of these skillpaths, and add those as a new column we can use as a multiplier. To make it easy for anyone to work with, we'll add easy to change values for all the conversion rates.\n",
    "\n",
    "Note: these conversion numbers are made-up nonsense for now. We can substitute in the real numbers later!"
   ]
  },
  {
   "cell_type": "code",
   "execution_count": 14,
   "metadata": {},
   "outputs": [
    {
     "data": {
      "text/html": [
       "<div>\n",
       "<style scoped>\n",
       "    .dataframe tbody tr th:only-of-type {\n",
       "        vertical-align: middle;\n",
       "    }\n",
       "\n",
       "    .dataframe tbody tr th {\n",
       "        vertical-align: top;\n",
       "    }\n",
       "\n",
       "    .dataframe thead th {\n",
       "        text-align: right;\n",
       "    }\n",
       "</style>\n",
       "<table border=\"1\" class=\"dataframe\">\n",
       "  <thead>\n",
       "    <tr style=\"text-align: right;\">\n",
       "      <th></th>\n",
       "      <th>keyword</th>\n",
       "      <th>rank_mar_10</th>\n",
       "      <th>url</th>\n",
       "      <th>tags</th>\n",
       "      <th>cpc</th>\n",
       "      <th>volume</th>\n",
       "      <th>skillpath</th>\n",
       "      <th>signup_conv</th>\n",
       "    </tr>\n",
       "  </thead>\n",
       "  <tbody>\n",
       "    <tr>\n",
       "      <th>98</th>\n",
       "      <td>kaggle courses</td>\n",
       "      <td>8</td>\n",
       "      <td>https://www.dataquest.io/course/kaggle-fundame...</td>\n",
       "      <td>skill-python-ml-intermediate</td>\n",
       "      <td>3.30</td>\n",
       "      <td>210.0</td>\n",
       "      <td>skill-python-ml-intermediate</td>\n",
       "      <td>0.01</td>\n",
       "    </tr>\n",
       "    <tr>\n",
       "      <th>107</th>\n",
       "      <td>learning r programming for beginners</td>\n",
       "      <td>8</td>\n",
       "      <td>https://www.dataquest.io/blog/learn-r-for-data...</td>\n",
       "      <td>r|skill-r-basics|tier3</td>\n",
       "      <td>3.47</td>\n",
       "      <td>110.0</td>\n",
       "      <td>skill-r-basics</td>\n",
       "      <td>0.01</td>\n",
       "    </tr>\n",
       "  </tbody>\n",
       "</table>\n",
       "</div>"
      ],
      "text/plain": [
       "                                  keyword rank_mar_10  \\\n",
       "98                         kaggle courses           8   \n",
       "107  learning r programming for beginners           8   \n",
       "\n",
       "                                                   url  \\\n",
       "98   https://www.dataquest.io/course/kaggle-fundame...   \n",
       "107  https://www.dataquest.io/blog/learn-r-for-data...   \n",
       "\n",
       "                             tags   cpc  volume                     skillpath  \\\n",
       "98   skill-python-ml-intermediate  3.30   210.0  skill-python-ml-intermediate   \n",
       "107        r|skill-r-basics|tier3  3.47   110.0                skill-r-basics   \n",
       "\n",
       "     signup_conv  \n",
       "98          0.01  \n",
       "107         0.01  "
      ]
     },
     "execution_count": 14,
     "metadata": {},
     "output_type": "execute_result"
    }
   ],
   "source": [
    "conditions = [\n",
    "    (df['tags'].str.contains('skill-python-stats') == True),\n",
    "    (df['tags'].str.contains('skill-r-stats') == True),\n",
    "    (df['tags'].str.contains('skill-python-ml-intermediate') == True),\n",
    "    (df['tags'].str.contains('skill-python-ml-intro') == True),\n",
    "    (df['tags'].str.contains('skills-sql') == True),\n",
    "    (df['tags'].str.contains('skill-r-basics') == True),\n",
    "    (df['tags'].str.contains('skill-python-basics') == True),\n",
    "    (df['tags'].str.contains('skill-python-da-dv') == True),\n",
    "    (df['tags'].str.contains('skill-python-apis-scraping') == True),\n",
    "    (df['tags'].str.contains('skill-r-apis-scraping') == True),\n",
    "    (df['tags'].str.contains('skill-r-dv') == True),\n",
    "    (df['tags'].str.contains('career-builder') == True),\n",
    "    ]\n",
    "\n",
    "python_stats_conv = 0.01\n",
    "r_stats_conv = 0.02\n",
    "python_ml_intermediate_conv = 0.01\n",
    "python_ml_intro_conv = 0.02\n",
    "sql_conv = 0.006\n",
    "r_basics_conv = 0.01\n",
    "python_basics_conv = 0.01\n",
    "python_da_dv_conv = 0.02\n",
    "python_apis_scraping_conv = 0.01\n",
    "r_apis_scraping_conv = 0.02\n",
    "r_dv_conv = 0.005\n",
    "career_builder_conv = 0.01\n",
    "\n",
    "values = [python_stats_conv, r_stats_conv, python_ml_intermediate_conv, python_ml_intro_conv,\n",
    "         sql_conv, r_basics_conv, python_basics_conv, python_da_dv_conv, python_apis_scraping_conv,\n",
    "          r_apis_scraping_conv, r_dv_conv, career_builder_conv\n",
    "         ]\n",
    "\n",
    "df['signup_conv'] = np.select(conditions, values)\n",
    "df.sample(2)"
   ]
  },
  {
   "cell_type": "markdown",
   "metadata": {},
   "source": [
    "Now we're set up to do some more advanced stuff, but for now, let's take a quick look at the potential conversions (not including long-tail and variations) for the SQL skill path, assuming we captured all traffic (which we obviously cannot, just as a proof of concept).\n",
    "\n",
    "Below is a hacky (but it works!) way to get at this:"
   ]
  },
  {
   "cell_type": "code",
   "execution_count": 18,
   "metadata": {},
   "outputs": [
    {
     "data": {
      "text/plain": [
       "1046.7000000000003"
      ]
     },
     "execution_count": 18,
     "metadata": {},
     "output_type": "execute_result"
    }
   ],
   "source": [
    "df[(df['skillpath'] == 'skills-sql')]['volume'].sum()*df[(df['skillpath'] == 'skills-sql')]['signup_conv'].mean()"
   ]
  },
  {
   "cell_type": "markdown",
   "metadata": {},
   "source": [
    "That'll do for now. Next steps:\n",
    "* Create a column for current estimated traffic based on current rank and keyword volume\n",
    "* Create a column for if we ranked 2nd for all keywords"
   ]
  }
 ],
 "metadata": {
  "kernelspec": {
   "display_name": "Python 3",
   "language": "python",
   "name": "python3"
  },
  "language_info": {
   "codemirror_mode": {
    "name": "ipython",
    "version": 3
   },
   "file_extension": ".py",
   "mimetype": "text/x-python",
   "name": "python",
   "nbconvert_exporter": "python",
   "pygments_lexer": "ipython3",
   "version": "3.7.0"
  }
 },
 "nbformat": 4,
 "nbformat_minor": 2
}
