{
 "cells": [
  {
   "cell_type": "markdown",
   "metadata": {},
   "source": [
    "Let's grab our data and take a look at it. (I did some basic cleaning and removed irrelevant rows in Google Sheets prior to importing, but that isn't strictly necessary for any of this)."
   ]
  },
  {
   "cell_type": "code",
   "execution_count": 2,
   "metadata": {},
   "outputs": [
    {
     "data": {
      "text/html": [
       "<div>\n",
       "<style scoped>\n",
       "    .dataframe tbody tr th:only-of-type {\n",
       "        vertical-align: middle;\n",
       "    }\n",
       "\n",
       "    .dataframe tbody tr th {\n",
       "        vertical-align: top;\n",
       "    }\n",
       "\n",
       "    .dataframe thead th {\n",
       "        text-align: right;\n",
       "    }\n",
       "</style>\n",
       "<table border=\"1\" class=\"dataframe\">\n",
       "  <thead>\n",
       "    <tr style=\"text-align: right;\">\n",
       "      <th></th>\n",
       "      <th>keyword</th>\n",
       "      <th>rank</th>\n",
       "      <th>url</th>\n",
       "      <th>tags</th>\n",
       "      <th>cpc</th>\n",
       "      <th>volume</th>\n",
       "    </tr>\n",
       "  </thead>\n",
       "  <tbody>\n",
       "    <tr>\n",
       "      <th>0</th>\n",
       "      <td>learn data science</td>\n",
       "      <td>1</td>\n",
       "      <td>https://www.dataquest.io/blog/learn-data-science/</td>\n",
       "      <td>career-builder|q3top10|tier1</td>\n",
       "      <td>7.37</td>\n",
       "      <td>880.0</td>\n",
       "    </tr>\n",
       "    <tr>\n",
       "      <th>1</th>\n",
       "      <td>python api tutorial</td>\n",
       "      <td>1</td>\n",
       "      <td>https://www.dataquest.io/blog/python-api-tutor...</td>\n",
       "      <td>api|python|skill-python-apis-scraping|tier3</td>\n",
       "      <td>1.97</td>\n",
       "      <td>390.0</td>\n",
       "    </tr>\n",
       "  </tbody>\n",
       "</table>\n",
       "</div>"
      ],
      "text/plain": [
       "               keyword rank  \\\n",
       "0   learn data science    1   \n",
       "1  python api tutorial    1   \n",
       "\n",
       "                                                 url  \\\n",
       "0  https://www.dataquest.io/blog/learn-data-science/   \n",
       "1  https://www.dataquest.io/blog/python-api-tutor...   \n",
       "\n",
       "                                          tags   cpc  volume  \n",
       "0                 career-builder|q3top10|tier1  7.37   880.0  \n",
       "1  api|python|skill-python-apis-scraping|tier3  1.97   390.0  "
      ]
     },
     "execution_count": 2,
     "metadata": {},
     "output_type": "execute_result"
    }
   ],
   "source": [
    "import pandas as pd\n",
    "import numpy as np\n",
    "\n",
    "# Import the SEMRush export and skip the extraneous rows it has at the top \n",
    "df = pd.read_csv('skill-ranks.csv', skiprows=7)\n",
    "# rename the columns and drop the useless one\n",
    "df.columns = ['keyword', 'rank', 'dtype', 'url', 'difference', 'tags', 'cpc', 'volume']\n",
    "df = df[['keyword', 'rank', 'url', 'tags', 'cpc', 'volume']]\n",
    "\n",
    "# double-checking it worked right by looking at the output\n",
    "df.head(2)"
   ]
  },
  {
   "cell_type": "markdown",
   "metadata": {},
   "source": [
    "The way SEMRush handles tags in exports is kind of annoying, but we can live with it. We've got a bunch of different skill paths, and we could use str.contains to separate each of them into a separate, smaller dataframe, like so:"
   ]
  },
  {
   "cell_type": "code",
   "execution_count": 3,
   "metadata": {},
   "outputs": [],
   "source": [
    "#commented out because we don't need to run this, it's just some info on an alternate method.\n",
    "\n",
    "# python_stats = df[df['tags'].str.contains('skill-python-stats')]"
   ]
  },
  {
   "cell_type": "markdown",
   "metadata": {},
   "source": [
    "But, it may be easier in the future if we keep this all in one database, so instead, let's set a list of conditions and corresponding values, and then create a new column that'll list _only_ the skillpath tag."
   ]
  },
  {
   "cell_type": "code",
   "execution_count": 4,
   "metadata": {},
   "outputs": [],
   "source": [
    "conditions = [\n",
    "    (df['tags'].str.contains('skill-python-stats') == True),\n",
    "    (df['tags'].str.contains('skill-r-stats') == True),\n",
    "    (df['tags'].str.contains('skill-python-ml-intermediate') == True),\n",
    "    (df['tags'].str.contains('skill-python-ml-intro') == True),\n",
    "    (df['tags'].str.contains('skills-sql') == True),\n",
    "    (df['tags'].str.contains('skill-r-basics') == True),\n",
    "    (df['tags'].str.contains('skill-python-basics') == True),\n",
    "    (df['tags'].str.contains('skill-python-da-dv') == True),\n",
    "    (df['tags'].str.contains('skill-python-apis-scraping') == True),\n",
    "    (df['tags'].str.contains('skill-r-apis-scraping') == True),\n",
    "    (df['tags'].str.contains('skill-r-dv') == True),\n",
    "    (df['tags'].str.contains('career-builder') == True),\n",
    "    ]\n",
    "\n",
    "values = ['skill-python-stats', 'skill-r-stats', 'skill-python-ml-intermediate', 'skill-python-ml-intro',\n",
    "         'skills-sql', 'skill-r-basics', 'skill-python-basics', 'skill-python-da-dv', 'skill-python-apis-scraping',\n",
    "          'skill-r-apis-scraping', 'skill-r-dv', 'career-builder'\n",
    "         ]\n",
    "\n",
    "df['skillpath'] = np.select(conditions, values)\n",
    "\n",
    "df.to_csv('SEMRush-data-exported.csv')"
   ]
  },
  {
   "cell_type": "markdown",
   "metadata": {},
   "source": [
    "## Dataquest users - Stop Here and Work with the CSV that was exported as per the [directions here.](https://www.notion.so/dataquest/Skill-Path-Keyword-Worksheet-Documentation-65280a7f34764a7f8dc10da0835bad00)\n",
    "\n",
    "Or, move on to the next section if you want to update conversion rates"
   ]
  },
  {
   "cell_type": "markdown",
   "metadata": {},
   "source": [
    "## GA RegEx converter script\n",
    "\n",
    "This script will take the dataset we've built, and create a version with an easy to copy-paste regex string for each skill path that you can then post into [this GA report](https://analytics.google.com/analytics/web/?authuser=0#/report/content-landing-pages/a41411988w90270749p93874080/_u.date00=20210101&_u.date01=20210312/) (see [documentation here](https://www.notion.so/dataquest/Skill-Path-Keyword-Worksheet-Documentation-65280a7f34764a7f8dc10da0835bad00))."
   ]
  },
  {
   "cell_type": "code",
   "execution_count": 21,
   "metadata": {
    "scrolled": true
   },
   "outputs": [
    {
     "name": "stdout",
     "output_type": "stream",
     "text": [
      "['career-builder']\n",
      "www.dataquest.io/blog/learn-data-science/|www.dataquest.io/blog/data-science-certificate/|www.dataquest.io/blog/data-analyst-skills/|www.dataquest.io/blog/how-to-become-a-data-scientist/|www.dataquest.io/blog/data-analyst-skills/|www.dataquest.io/path/data-engineer/|www.dataquest.io/path/data-scientist/|www.dataquest.io/path/data-analyst/\n",
      "\n",
      "\n",
      "['skill-python-apis-scraping']\n",
      "www.dataquest.io/blog/python-api-tutorial/|www.dataquest.io/blog/web-scraping-tutorial-python/|www.dataquest.io/blog/python-api-tutorial/|www.dataquest.io/blog/web-scraping-tutorial-python/|www.dataquest.io/blog/python-api-tutorial/|www.dataquest.io/blog/web-scraping-tutorial-python/|www.dataquest.io/course/apis-and-scraping/|www.dataquest.io/blog/web-scraping-tutorial-python/\n",
      "\n",
      "\n",
      "['skill-r-apis-scraping']\n",
      "www.dataquest.io/blog/r-api-tutorial/|www.dataquest.io/blog/web-scraping-in-r-rvest/|www.dataquest.io/blog/web-scraping-in-r-rvest/|www.dataquest.io/blog/r-api-tutorial/|www.dataquest.io/blog/r-api-tutorial/|www.dataquest.io/blog/web-scraping-in-r-rvest/|www.dataquest.io/course/web-scraping-in-r/\n",
      "\n",
      "\n",
      "['skill-r-basics']\n",
      "www.dataquest.io/path/data-analyst-r/|www.dataquest.io/blog/learn-r-for-data-science/|www.dataquest.io/blog/learn-r-for-data-science/|www.dataquest.io/blog/control-structures-in-r-using-loops-and-if-else-statements/|www.dataquest.io/course/introduction-to-data-analysis-in-r/|www.dataquest.io/blog/learn-r-for-data-science/|www.dataquest.io/course/introduction-to-data-analysis-in-r/|www.dataquest.io/path/data-analyst-r/|www.dataquest.io/course/introduction-to-data-analysis-in-r/|www.dataquest.io/course/introduction-to-data-analysis-in-r/|www.dataquest.io/blog/r-functions-tutorial/|www.dataquest.io/blog/control-structures-in-r-using-loops-and-if-else-statements/|www.dataquest.io/course/introduction-to-data-analysis-in-r/|www.dataquest.io/m/342-fundamentals-of-string-manipulation/|www.dataquest.io/blog/tutorial-getting-started-with-r-and-rstudio/|www.dataquest.io/blog/data-science-certificate/||||\n",
      "\n",
      "\n",
      "['skill-python-basics']\n",
      "www.dataquest.io/blog/learn-python-the-right-way/|www.dataquest.io/blog/python-projects-for-beginners/|www.dataquest.io/blog/learn-python-from-scratch/|www.dataquest.io/blog/python-certification/|www.dataquest.io/blog/learn-python-the-right-way/|www.dataquest.io/path/data-analyst/|www.dataquest.io/blog/how-to-learn-python-for-data-science-in-5-steps/|www.dataquest.io/blog/python-datetime-tutorial/|www.dataquest.io/blog/learn-python-the-right-way/|www.dataquest.io/blog/how-to-learn-python-for-data-science-in-5-steps/|www.dataquest.io/path/data-analyst/|www.dataquest.io/blog/python-projects-for-beginners/|www.dataquest.io/python-tutorials-for-data-science/|www.dataquest.io/course/python-for-data-science-fundamentals/|www.dataquest.io/blog/python-dictionary-tutorial/|www.dataquest.io/blog/python-projects-for-beginners/|www.dataquest.io/blog/python-for-loop-tutorial/|www.dataquest.io/blog/python-list-tutorial/|www.dataquest.io/blog/python-if-else/|www.dataquest.io/course/python-for-data-science-fundamentals/\n",
      "\n",
      "\n",
      "['skill-r-dv']\n",
      "www.dataquest.io/blog/data-visualization-in-r-with-ggplot2-a-beginner-tutorial/|www.dataquest.io/course/r-data-viz/|www.dataquest.io/blog/data-visualization-in-r-with-ggplot2-a-beginner-tutorial/|www.dataquest.io/blog/data-visualization-in-r-with-ggplot2-a-beginner-tutorial/\n",
      "\n",
      "\n",
      "['skill-python-da-dv']\n",
      "www.dataquest.io/blog/regex-cheatsheet/|www.dataquest.io/course/python-data-cleaning-advanced/|www.dataquest.io/course/pandas-fundamentals/|www.dataquest.io/blog/regex-cheatsheet/|www.dataquest.io/blog/machine-learning-preparing-data/|www.dataquest.io/blog/pandas-python-tutorial/|www.dataquest.io/course/pandas-fundamentals/|www.dataquest.io/blog/machine-learning-preparing-data/|www.dataquest.io/blog/regex-cheatsheet/|www.dataquest.io/blog/numpy-tutorial-python/|www.dataquest.io/blog/python-data-visualization-libraries/|www.dataquest.io/blog/machine-learning-preparing-data/|www.dataquest.io/blog/pandas-cheat-sheet/|www.dataquest.io/blog/regex-cheatsheet/|www.dataquest.io/blog/regular-expressions-data-scientists/|www.dataquest.io/course/storytelling-data-visualization/|www.dataquest.io/blog/excel-and-pandas/|www.dataquest.io/blog/matplotlib-tutorial/||\n",
      "\n",
      "\n",
      "['skills-sql']\n",
      "www.dataquest.io/blog/sql-basics/|www.dataquest.io/blog/how-long-learn-sql/|www.dataquest.io/blog/sql-basics/|www.dataquest.io/blog/sql-cheat-sheet/|www.dataquest.io/blog/why-sql-is-the-most-important-language-to-learn/|www.dataquest.io/blog/sql-vs-mysql/|www.dataquest.io/blog/sql-certification/|www.dataquest.io/blog/why-sql-is-the-most-important-language-to-learn/|www.dataquest.io/blog/why-sql-is-the-most-important-language-to-learn/|www.dataquest.io/blog/sql-interview-questions/|www.dataquest.io/blog/sql-certification/|www.dataquest.io/blog/sql-basics/|www.dataquest.io/blog/sql-commands/|www.dataquest.io/blog/why-sql-is-the-most-important-language-to-learn/|www.dataquest.io/course/sql-fundamentals/|www.dataquest.io/course/sql-fundamentals/|www.dataquest.io/blog/sql-joins-tutorial/|www.dataquest.io/blog/why-sql-is-the-most-important-language-to-learn/|www.dataquest.io/course/sql-fundamentals/|www.dataquest.io/blog/sql-insert-tutorial/|||\n",
      "\n",
      "\n",
      "['skill-python-ml-intro']\n",
      "www.dataquest.io/blog/top-10-machine-learning-algorithms-for-beginners/|www.dataquest.io/blog/top-10-machine-learning-algorithms-for-beginners/|www.dataquest.io/course/machine-learning-fundamentals/|www.dataquest.io/blog/top-10-machine-learning-algorithms-for-beginners/||\n",
      "\n",
      "\n",
      "['skill-r-stats']\n",
      "www.dataquest.io/course/probability-fundamentals-r/|www.dataquest.io/blog/learn-statistics-in-r/|www.dataquest.io/blog/learn-statistics-in-r/|\n",
      "\n",
      "\n",
      "['skill-python-stats']\n",
      "www.dataquest.io/blog/basic-statistics-in-python-probability/|www.dataquest.io/blog/basic-statistics-with-python-descriptive-statistics/|www.dataquest.io/blog/basic-statistics-in-python-probability/|www.dataquest.io/blog/basic-statistics-with-python-descriptive-statistics/|www.dataquest.io/python-tutorials-for-data-science/||\n",
      "\n",
      "\n",
      "['skill-python-ml-intermediate']\n",
      "www.dataquest.io/course/kaggle-fundamentals/|www.dataquest.io/blog/kaggle-tutorial/|www.dataquest.io/course/kaggle-fundamentals/|www.dataquest.io/course/deep-learning-fundamentals/\n",
      "\n",
      "\n"
     ]
    }
   ],
   "source": [
    "# I wrote this as a function, although in retrospect it doesn't need to be.\n",
    "def df_maker(df):\n",
    "    # get unique skillpath names\n",
    "    paths = df.skillpath.unique()\n",
    "    \n",
    "    # for each skill path:\n",
    "    for row in paths:\n",
    "        skillpath_df = df[df['skillpath'] == row]         # create a unique df for that skillpath alone\n",
    "        skillpath_name = skillpath_df['skillpath'].unique()  # assign the path's name to skillpath_name\n",
    "        urls = skillpath_df['url'].tolist()              # convert the url column from pandas series to list\n",
    "        url_string = str(urls)                           # convert the list into a string  \n",
    "        url_string = url_string.replace('https://', '')  # remove elements to format the string for\n",
    "        url_string = url_string.replace('[', '')         # GA regexp requirements\n",
    "        url_string = url_string.replace(']', '')\n",
    "        url_string = url_string.replace('\\'', '')\n",
    "        url_string = url_string.replace('nan', '')\n",
    "        url_string = url_string.replace(', ', '|')\n",
    "        \n",
    "        # remove the final | if the string ends with one\n",
    "        # (which happens for skillpaths that end with NaN because we don't have a page ranking)\n",
    "        # ! this doesn't work if it ends with multiple nans, need to rethink later !\n",
    "        if url_string[-1] == '|':                        \n",
    "            output = url_string[:-1]\n",
    "        else:\n",
    "            output = url_string\n",
    "        \n",
    "        # print the output for copy-paste purposes\n",
    "        print(skillpath_name)\n",
    "        print(output)\n",
    "        print('\\n')\n",
    "\n",
    "df_maker(df)"
   ]
  },
  {
   "cell_type": "code",
   "execution_count": null,
   "metadata": {},
   "outputs": [],
   "source": []
  }
 ],
 "metadata": {
  "kernelspec": {
   "display_name": "Python 3",
   "language": "python",
   "name": "python3"
  },
  "language_info": {
   "codemirror_mode": {
    "name": "ipython",
    "version": 3
   },
   "file_extension": ".py",
   "mimetype": "text/x-python",
   "name": "python",
   "nbconvert_exporter": "python",
   "pygments_lexer": "ipython3",
   "version": "3.7.0"
  }
 },
 "nbformat": 4,
 "nbformat_minor": 2
}
